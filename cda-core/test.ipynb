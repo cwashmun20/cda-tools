{
 "cells": [
  {
   "cell_type": "code",
   "execution_count": 27,
   "metadata": {},
   "outputs": [],
   "source": [
    "import dance\n",
    "import dancer_points as dp\n",
    "from datetime import date\n",
    "import numpy as np\n",
    "import sys\n",
    "np.set_printoptions(linewidth=sys.maxsize)"
   ]
  },
  {
   "cell_type": "code",
   "execution_count": 34,
   "metadata": {},
   "outputs": [
    {
     "data": {
      "text/plain": [
       "368"
      ]
     },
     "execution_count": 34,
     "metadata": {},
     "output_type": "execute_result"
    }
   ],
   "source": [
    "testdate = date(2023, 9, 5)\n",
    "today = date.today()\n",
    "(today - testdate).days"
   ]
  },
  {
   "cell_type": "code",
   "execution_count": 38,
   "metadata": {},
   "outputs": [
    {
     "name": "stdout",
     "output_type": "stream",
     "text": [
      "0:00:00\n"
     ]
    }
   ],
   "source": [
    "first_comp_date = (\"09\", \"07\", \"2024\")\n",
    "month, day, year = map(int, first_comp_date)\n",
    "print(date(year, month, day) - date.today())"
   ]
  },
  {
   "cell_type": "code",
   "execution_count": 16,
   "metadata": {},
   "outputs": [],
   "source": [
    "# test_pts = dp.Points()\n",
    "# syl = test_pts.syllabus_data\n",
    "# op = test_pts.open_data\n",
    "syl = np.random.randint(0, high=99, size=(4, 19))\n",
    "op = np.random.randint(0, high=99, size=(3, 4))\n",
    "test_pts = dp.Points(syl, op)"
   ]
  },
  {
   "cell_type": "code",
   "execution_count": 17,
   "metadata": {},
   "outputs": [
    {
     "name": "stdout",
     "output_type": "stream",
     "text": [
      "Syllabus\n",
      "[[67  8 41 52  0  6  7 49 56 55  9 28  8 69 65 76 86 92 93]\n",
      " [38 61 88 39 92 93 30 44  6 50 92 25 16 27 11 25 47 24 26]\n",
      " [ 6 82 47 86 23 55 52 91 10 82 83 88 70 42 37 69 68 23 82]\n",
      " [50 29 71 56 67 32 40  7 55 48 27 92 39 82 23 27  4 91 21]]\n",
      "Open\n",
      "[[83 58 76 64]\n",
      " [56 90 70 17]\n",
      " [33 74 93 50]]\n",
      "\n"
     ]
    }
   ],
   "source": [
    "print(\"Syllabus\")\n",
    "print(syl)\n",
    "print(\"Open\")\n",
    "print(op)\n",
    "print()\n",
    "# print(test_pts)"
   ]
  },
  {
   "cell_type": "code",
   "execution_count": 18,
   "metadata": {},
   "outputs": [
    {
     "data": {
      "text/plain": [
       "'67  8 41 52  0'"
      ]
     },
     "execution_count": 18,
     "metadata": {},
     "output_type": "execute_result"
    }
   ],
   "source": [
    "str(syl[0][:5])[1:-1]"
   ]
  },
  {
   "cell_type": "code",
   "execution_count": 19,
   "metadata": {},
   "outputs": [
    {
     "name": "stdout",
     "output_type": "stream",
     "text": [
      "Standard\n",
      "[[67  8 41 52  0]\n",
      " [38 61 88 39 92]\n",
      " [ 6 82 47 86 23]\n",
      " [50 29 71 56 67]]\n",
      "\n",
      "[[67  8 41 52  0]\n",
      " [38 61 88 39 92]\n",
      " [ 6 82 47 86 23]\n",
      " [50 29 71 56 67]]\n",
      "\n",
      "Smooth\n",
      "[[ 6  7 49 56]\n",
      " [93 30 44  6]\n",
      " [55 52 91 10]\n",
      " [32 40  7 55]]\n",
      "\n",
      "[[58]\n",
      " [90]\n",
      " [74]]\n",
      "\n",
      "Latin\n",
      "[[55  9 28  8 69]\n",
      " [50 92 25 16 27]\n",
      " [82 83 88 70 42]\n",
      " [48 27 92 39 82]]\n",
      "\n",
      "[[76]\n",
      " [70]\n",
      " [93]]\n",
      "\n",
      "Rhythm\n",
      "[[65 76 86 92 93]\n",
      " [11 25 47 24 26]\n",
      " [37 69 68 23 82]\n",
      " [23 27  4 91 21]]\n",
      "\n",
      "[[64]\n",
      " [17]\n",
      " [50]]\n"
     ]
    }
   ],
   "source": [
    "print(\"Standard\")\n",
    "print(test_pts.standard()[0])\n",
    "print()\n",
    "print(test_pts.standard()[0])\n",
    "print()\n",
    "print(\"Smooth\")\n",
    "print(test_pts.smooth()[0])\n",
    "print()\n",
    "print(test_pts.smooth()[1])\n",
    "print()\n",
    "print(\"Latin\")\n",
    "print(test_pts.latin()[0])\n",
    "print()\n",
    "print(test_pts.latin()[1])\n",
    "print()\n",
    "print(\"Rhythm\")\n",
    "print(test_pts.rhythm()[0])\n",
    "print()\n",
    "print(test_pts.rhythm()[1])"
   ]
  },
  {
   "cell_type": "code",
   "execution_count": 20,
   "metadata": {},
   "outputs": [
    {
     "name": "stdout",
     "output_type": "stream",
     "text": [
      "67  8 41 52  0\n",
      " 6  7 49 56\n",
      "55  9 28  8 69\n",
      "65 76 86 92 93\n",
      "38 61 88 39 92\n",
      "93 30 44  6\n",
      "50 92 25 16 27\n",
      "11 25 47 24 26\n",
      " 6 82 47 86 23\n",
      "55 52 91 10\n",
      "82 83 88 70 42\n",
      "37 69 68 23 82\n",
      "50 29 71 56 67\n",
      "32 40  7 55\n",
      "48 27 92 39 82\n",
      "23 27  4 91 21\n",
      "83\n",
      "58\n",
      "76\n",
      "64\n",
      "56\n",
      "90\n",
      "70\n",
      "17\n",
      "33\n",
      "74\n",
      "93\n",
      "50\n"
     ]
    }
   ],
   "source": [
    "lin_data = test_pts.linear_data()\n",
    "for offset in [0, 19, 38, 57, 76, 80, 84]:\n",
    "    if offset < 76:\n",
    "        for start, end in [(0, 5), (5, 9), (9, 14), (14, 19)]:\n",
    "            print(str(lin_data[offset + start:offset + end])[1:-1])\n",
    "    else:\n",
    "        for i in range(4):\n",
    "            print(str(lin_data[offset + i:offset + i + 1])[1:-1])"
   ]
  },
  {
   "cell_type": "code",
   "execution_count": 21,
   "metadata": {},
   "outputs": [
    {
     "name": "stdout",
     "output_type": "stream",
     "text": [
      "                     Standard      |  Smooth     |  Latin         |  Rhythm        |\n",
      "                     W  T  V  F  Q |  W  T  F  V |  C  S  R  P  J |  C  R  S  B  M |\n",
      "          Newcomer  67  8 41 52  0 |  6  7 49 56 | 55  9 28  8 69 | 65 76 86 92 93 |\n",
      "            Bronze  38 61 88 39 92 | 93 30 44  6 | 50 92 25 16 27 | 11 25 47 24 26 |\n",
      "            Silver   6 82 47 86 23 | 55 52 91 10 | 82 83 88 70 42 | 37 69 68 23 82 |\n",
      "              Gold  50 29 71 56 67 | 32 40  7 55 | 48 27 92 39 82 | 23 27  4 91 21 |\n",
      "            Novice        83       |      58     |       76       |       64       |\n",
      "          Prechamp        56       |      90     |       70       |       17       |\n",
      "             Champ        33       |      74     |       93       |       50       |\n",
      "        \n"
     ]
    }
   ],
   "source": [
    "print(test_pts)"
   ]
  }
 ],
 "metadata": {
  "kernelspec": {
   "display_name": "Python 3",
   "language": "python",
   "name": "python3"
  },
  "language_info": {
   "codemirror_mode": {
    "name": "ipython",
    "version": 3
   },
   "file_extension": ".py",
   "mimetype": "text/x-python",
   "name": "python",
   "nbconvert_exporter": "python",
   "pygments_lexer": "ipython3",
   "version": "3.7.0"
  }
 },
 "nbformat": 4,
 "nbformat_minor": 2
}
